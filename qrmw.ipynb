{
 "cells": [
  {
   "cell_type": "markdown",
   "id": "4442daba-cc72-4d9e-bbbd-2bb27931df01",
   "metadata": {},
   "source": [
    "<h2> Quantum Representation of Multi Wavelength Images </h2>\n",
    "<h2> The Implementation using <span style=\"color:violet;\"> Qiskit and IBM Quantum Computer </span> </h2>\n",
    "<hr>"
   ]
  },
  {
   "cell_type": "markdown",
   "id": "9f0d4f8b-09f9-4643-b597-d2b76bed0067",
   "metadata": {},
   "source": [
    "<br>\n",
    "First,install Python libraries using <span style=\"color:red;\"> PIP </span> commands below\n",
    "<li> %pip install pillow </li>\n",
    "<li> %pip install qiskit </li>\n",
    "<li> %pip install stim </li>\n",
    "<li> %pip install qiskit_aer </li>\n",
    "<li> %pip instal numpy </li>\n",
    "<li> %pip instal matplotlib </li>\n",
    "<li> %pip install pylatexenc </li>\n",
    "<li> %pip install qiskit-ibm-runtime </li>"
   ]
  },
  {
   "cell_type": "code",
   "execution_count": 1,
   "id": "f71b12c3-b38e-4543-a967-2e621e8b3d6d",
   "metadata": {},
   "outputs": [],
   "source": [
    "from PIL import Image\n",
    "import numpy as np\n",
    "import typing\n",
    "from dataclasses import dataclass\n",
    "from qiskit import QuantumRegister, QuantumCircuit\n",
    "from qiskit import transpile\n",
    "from qiskit.version import get_version_info\n",
    "from qiskit_aer import AerSimulator\n",
    "from qiskit_aer.version import get_version_info as aerver\n",
    "from qiskit_ibm_runtime import QiskitRuntimeService\n",
    "from qiskit.providers.fake_provider import GenericBackendV2\n",
    "from qiskit_ibm_runtime.fake_provider import FakeBrisbane\n",
    "from qiskit_ibm_runtime import SamplerV2 as Sampler\n",
    "from qiskit.transpiler import generate_preset_pass_manager\n",
    "import matplotlib.pyplot as plt"
   ]
  },
  {
   "cell_type": "code",
   "execution_count": 2,
   "id": "2f75df75-3115-43d4-8226-f6b389a1268d",
   "metadata": {},
   "outputs": [
    {
     "name": "stdout",
     "output_type": "stream",
     "text": [
      "Qiskit Version: 1.3.0\n",
      "Aer Version: 0.15.1\n"
     ]
    }
   ],
   "source": [
    "print(f'Qiskit Version: {get_version_info()}')\n",
    "print(f'Aer Version: {aerver()}')"
   ]
  },
  {
   "cell_type": "markdown",
   "id": "b4d00df5-13a4-4846-9d70-8f2bf791cce2",
   "metadata": {},
   "source": [
    "<br>\n",
    "<h3> Some tools to use in future </h3>\n",
    "<hr>"
   ]
  },
  {
   "cell_type": "code",
   "execution_count": 3,
   "id": "31fcb802-44b1-4efc-8906-50810e408be4",
   "metadata": {},
   "outputs": [],
   "source": [
    "def map_coord(x: int, y: int, w: int, h: int) -> int:\n",
    "    \"\"\"\n",
    "    Maps the (X, Y) to single value.\n",
    "    \"\"\"\n",
    "    \n",
    "    __m = np.arange(w*h, dtype=int).reshape(h, w)\n",
    "    return __m[x][y]\n",
    "\n",
    "def convert_binary(x: int, padding: int) -> str:\n",
    "    \"\"\"\n",
    "    Converts X integer to binary string.\n",
    "    \"\"\"\n",
    "\n",
    "    return f'{x:0{padding}b}'\n",
    "\n",
    "@dataclass\n",
    "class fImage:\n",
    "    width: int\n",
    "    height: int\n",
    "    depth: int\n",
    "    channel: int\n",
    "    evals: dict"
   ]
  },
  {
   "cell_type": "markdown",
   "id": "a9151579-6fa9-4f43-9c06-f65046d38e31",
   "metadata": {},
   "source": [
    "<br>\n",
    "<h2> Open an image and reshape for future usage </h2>\n",
    "<hr>"
   ]
  },
  {
   "cell_type": "code",
   "execution_count": 4,
   "id": "ad104877-2e31-4a51-beba-3ae45683d192",
   "metadata": {},
   "outputs": [],
   "source": [
    "def open_image(image_path: str) -> fImage:\n",
    "    image = Image.open(image_path)\n",
    "    image = image.convert('RGBA')\n",
    "    pixels = image.load()\n",
    "\n",
    "    # RGBA is 4 channel and bitdepth is 8.\n",
    "    # Color bit depth is adaptable while channel is not.\n",
    "    channel_count = 4\n",
    "    color_depth = 8\n",
    "\n",
    "    h = np.log2(image.height)     \n",
    "    w = np.log2(image.width)\n",
    "        \n",
    "    pixel_info_dict: typing.Dict[str: typing.Dict[str: str]] = dict()\n",
    "    \n",
    "    # Scans the pixel values into dict.\n",
    "    for y in range(image.height):\n",
    "        for x in range(image.width):\n",
    "            yindex_str = convert_binary(y, int(np.ceil(h)))\n",
    "            xindex_str = convert_binary(x, int(np.ceil(w)))\n",
    "            \n",
    "            index_binstr = yindex_str+xindex_str\n",
    "            pixel_info_dict[index_binstr] = dict()\n",
    "            \n",
    "            # Scans the RGBA into indexed dict.\n",
    "            for z in range(channel_count):\n",
    "                mindex_binstr = convert_binary(z, int(np.log2(channel_count)))\n",
    "                pindex_binstr = convert_binary(pixels[x, y][z], color_depth)\n",
    "                pixel_info_dict[index_binstr][mindex_binstr] = pindex_binstr\n",
    "\n",
    "    df = fImage(image.width, image.height, color_depth, channel_count, pixel_info_dict)\n",
    "    return image, df"
   ]
  },
  {
   "cell_type": "markdown",
   "id": "54bbf521-d8bb-4314-95d7-e54e6ecbb0e5",
   "metadata": {},
   "source": [
    "<br>\n",
    "Open file returns dictionary like below:\n",
    "<br> Dictionary = {\n",
    "<br> &emsp;&emsp; Pixel_Index0 = {RIndex: RValue, GIndex: GValue, BIndex: BValue, AIndex: AValue, ... },\n",
    "<br> &emsp;&emsp; Pixel_Index0 = {RIndex: RValue, GIndex: GValue, BIndex: BValue, AIndex: AValue, ... }, \n",
    "<br> &emsp;&emsp; ... }\n",
    "<hr>"
   ]
  },
  {
   "cell_type": "code",
   "execution_count": 5,
   "id": "22e98ba5-d0ea-4ac9-b5fd-011f7ec775b2",
   "metadata": {},
   "outputs": [
    {
     "name": "stdout",
     "output_type": "stream",
     "text": [
      "Image Size = 8x8\n",
      "Pixel Ind    | Color Ind    | Color Value \n",
      "-----------------------------------------------------------\n",
      "000000       | 00           | 11111111    \n",
      "000000       | 01           | 00000000    \n",
      "000000       | 10           | 00000000    \n",
      "000000       | 11           | 11111111    \n",
      "-----------------------------------------------------------\n",
      "000001       | 00           | 00000000    \n",
      "000001       | 01           | 00000000    \n",
      "000001       | 10           | 11111111    \n",
      "000001       | 11           | 11111111    \n",
      "-----------------------------------------------------------\n",
      "000010       | 00           | 00000000    \n",
      "000010       | 01           | 11111111    \n",
      "000010       | 10           | 00000000    \n",
      "000010       | 11           | 11111111    \n",
      "-----------------------------------------------------------\n",
      "000011       | 00           | 11111111    \n",
      "000011       | 01           | 11111111    \n",
      "000011       | 10           | 00000000    \n",
      "000011       | 11           | 11111111    \n",
      "-----------------------------------------------------------\n",
      "...          | ...          | ...         \n",
      "...          | ...          | ...         \n",
      "...          | ...          | ...         \n",
      "111010       | 00           | 11111111    \n",
      "111010       | 01           | 00000000    \n",
      "111010       | 10           | 11111111    \n",
      "111010       | 11           | 11111111    \n",
      "-----------------------------------------------------------\n",
      "111011       | 00           | 00000000    \n",
      "111011       | 01           | 11111111    \n",
      "111011       | 10           | 11111111    \n",
      "111011       | 11           | 11111111    \n",
      "-----------------------------------------------------------\n",
      "111100       | 00           | 11111111    \n",
      "111100       | 01           | 11111111    \n",
      "111100       | 10           | 00000000    \n",
      "111100       | 11           | 11111111    \n",
      "-----------------------------------------------------------\n",
      "111101       | 00           | 00000000    \n",
      "111101       | 01           | 11111111    \n",
      "111101       | 10           | 00000000    \n",
      "111101       | 11           | 11111111    \n",
      "-----------------------------------------------------------\n",
      "111110       | 00           | 00000000    \n",
      "111110       | 01           | 00000000    \n",
      "111110       | 10           | 11111111    \n",
      "111110       | 11           | 11111111    \n",
      "-----------------------------------------------------------\n",
      "111111       | 00           | 11111111    \n",
      "111111       | 01           | 00000000    \n",
      "111111       | 10           | 00000000    \n",
      "111111       | 11           | 11111111    \n",
      "-----------------------------------------------------------\n"
     ]
    }
   ],
   "source": [
    "org_image, df = open_image(\"8x8_test.png\")\n",
    "print(f'Image Size = {df.width}x{df.height}')\n",
    "print(f'{\"Pixel Ind\":<12} | {\"Color Ind\":<12} | {\"Color Value\":<12}')\n",
    "print(f'-----------------------------------------------------------')\n",
    "skip = False\n",
    "for i, pindex_binstr in enumerate(df.evals.keys()):\n",
    "    if len(df.evals.keys()) < 10:\n",
    "        for cindex_binstr in df.evals[pindex_binstr].keys():\n",
    "            print(f'{pindex_binstr:<12} | {cindex_binstr:<12} | {df.evals[pindex_binstr][cindex_binstr]:<12}')\n",
    "        print(f'-----------------------------------------------------------')\n",
    "    else:\n",
    "        if i < len(df.evals.keys())*1/20 or i >= len(df.evals.keys())*18/20:\n",
    "            for cindex_binstr in df.evals[pindex_binstr].keys():\n",
    "                print(f'{pindex_binstr:<12} | {cindex_binstr:<12} | {df.evals[pindex_binstr][cindex_binstr]:<12}')\n",
    "            print(f'-----------------------------------------------------------')\n",
    "        else:\n",
    "            if not skip:\n",
    "                print(f'{\"...\":<12} | {\"...\":<12} | {\"...\":<12}')\n",
    "                print(f'{\"...\":<12} | {\"...\":<12} | {\"...\":<12}')\n",
    "                print(f'{\"...\":<12} | {\"...\":<12} | {\"...\":<12}')\n",
    "                skip = True"
   ]
  },
  {
   "cell_type": "markdown",
   "id": "23f9eb49-2b1a-4cb2-a0c6-7888bd287244",
   "metadata": {},
   "source": [
    "<br>\n",
    "<h3> Generate the QRM circuit from given reshaped image data</h3>\n",
    "<h4> $$ \\begin{aligned} \\text{Qubit count} =& \\; 2*n + q + c \\\\ n =& \\; 2^n\\times2^n \\;\\; \\text{Image Size}\\\\ q =& \\; 2^q\\;\\; \\text{Color Depth} \\\\ c =& \\; 2^c \\;\\; \\text{Channel Count}\\end{aligned}$$ </h4>\n",
    "<hr>"
   ]
  },
  {
   "cell_type": "code",
   "execution_count": 6,
   "id": "d26cf104-22bb-4a40-9bad-eb5a4b409da1",
   "metadata": {},
   "outputs": [],
   "source": [
    "def generate_QRMW_qiskit_circuit(image_info: fImage):\n",
    "    ny_qubit_count = int(np.log2(image_info.height))\n",
    "    nx_qubit_count = int(np.log2(image_info.width))\n",
    "    c_qubit_count = int(np.log2(image_info.channel))\n",
    "    q_qubit_count = int(image_info.depth)\n",
    "    qubit_count = ny_qubit_count + nx_qubit_count + c_qubit_count + q_qubit_count\n",
    "    print(f'Qubit count for QRMW image: {qubit_count}')\n",
    "\n",
    "    if qubit_count > 24:\n",
    "        mg = 'Qubit count greter then 24 is not recommended for qiskit simulation.'\n",
    "        raise MemoryError(mg)\n",
    "\n",
    "    # Add Hadamards on pixel index and color index qubits.\n",
    "    circuit = QuantumCircuit(qubit_count, qubit_count)\n",
    "    circuit.h(range(0, ny_qubit_count))\n",
    "    circuit.h(range(ny_qubit_count, ny_qubit_count+nx_qubit_count))\n",
    "    circuit.h(range(ny_qubit_count+nx_qubit_count, ny_qubit_count+nx_qubit_count+c_qubit_count))\n",
    "\n",
    "    for pindex_binstr in image_info.evals.keys():\n",
    "        for cindex_binstr in image_info.evals[pindex_binstr].keys():\n",
    "            cpindex_binstr = pindex_binstr+cindex_binstr\n",
    "            xcircuit = QuantumCircuit(q_qubit_count) \n",
    "            for i in range(q_qubit_count):\n",
    "                if image_info.evals[pindex_binstr][cindex_binstr][i] == '1':\n",
    "                    xcircuit.x(i)\n",
    "            xgate = xcircuit.to_gate()\n",
    "            circuit.append(xgate.control(len(cpindex_binstr), \n",
    "                                         label=cpindex_binstr, \n",
    "                                         ctrl_state=cpindex_binstr[::-1]),\n",
    "                                         circuit.qubits)\n",
    "            circuit.barrier()\n",
    "    \n",
    "    circuit.measure(range(qubit_count), range(qubit_count))\n",
    "    return circuit"
   ]
  },
  {
   "cell_type": "markdown",
   "id": "75e6e3f3-8980-4b2b-98ea-5017ea483838",
   "metadata": {},
   "source": [
    "<br>\n",
    "<h3> Aer Normal Simulator Result </h3>\n",
    "<hr>"
   ]
  },
  {
   "cell_type": "code",
   "execution_count": 7,
   "id": "63c8a982-9964-401f-af74-01b3fb9d5e99",
   "metadata": {},
   "outputs": [
    {
     "name": "stdout",
     "output_type": "stream",
     "text": [
      "Qubit count for QRMW image: 16\n",
      "Simulation time take: 0.477359193\n"
     ]
    }
   ],
   "source": [
    "qrmw_qiskit_circuit = generate_QRMW_qiskit_circuit(df)\n",
    "sim = AerSimulator()\n",
    "transpiled_circuit = transpile(qrmw_qiskit_circuit, sim, optimization_level=3)\n",
    "job =  sim.run(transpiled_circuit, shots=2**20)\n",
    "print(f'Simulation time take: {job.result().metadata['time_taken_execute']}')\n",
    "qiskit_result = job.result().get_counts()"
   ]
  },
  {
   "cell_type": "markdown",
   "id": "10f0befe-79a7-4ad3-b346-e41e07b628ea",
   "metadata": {},
   "source": [
    "<br>\n",
    "<h3> Regenerate the image from Qiskit simulation result </h3>\n",
    "<hr>"
   ]
  },
  {
   "cell_type": "code",
   "execution_count": 37,
   "id": "654b2c3a-a7c3-4543-9ec1-58d2f4ab23b9",
   "metadata": {},
   "outputs": [],
   "source": [
    "def regenerate_image(counts, channel_len=4, color_depth=8):\n",
    "    fv = list(counts.keys())[0]\n",
    "    ch = int(np.log2(channel_len))\n",
    "    n = int((len(fv) - ch - color_depth)/2)\n",
    "    w = int(2**n)\n",
    "    h = int(2**n)\n",
    "\n",
    "    rgba_data = np.zeros(shape=(h, w, channel_len), dtype=np.uint8)\n",
    "    for cts in counts:\n",
    "        cts = cts[::-1]\n",
    "        ybin = cts[: n]\n",
    "        xbin = cts[n: 2*n]\n",
    "        wbin = cts[2*n: 2*n+ch]\n",
    "        qbin = cts[2*n+ch: ]\n",
    "        rgba_data[int(ybin, 2)][int(xbin, 2)][int(wbin, 2)] = int(qbin, 2)\n",
    "        \n",
    "    image = Image.fromarray(rgba_data.astype(np.uint8), mode='RGBA')\n",
    "    return image"
   ]
  },
  {
   "cell_type": "markdown",
   "id": "c8348775-8c55-4b72-8ed9-8c246d744798",
   "metadata": {},
   "source": [
    "<br>\n",
    "<h2> Compare orginal image and recreated image side by side </h2>\n",
    "<hr>"
   ]
  },
  {
   "cell_type": "code",
   "execution_count": 9,
   "id": "cb8fe687-347d-4ed6-a6ce-885a050bfbde",
   "metadata": {},
   "outputs": [
    {
     "data": {
      "image/png": "[encoded data removed]",
      "text/plain": [
       "<Figure size 1000x500 with 2 Axes>"
      ]
     },
     "metadata": {},
     "output_type": "display_data"
    }
   ],
   "source": [
    "reg_image = regenerate_image(qiskit_result)\n",
    "\n",
    "fig, axes = plt.subplots(1, 2, figsize=(10, 5))\n",
    "axes[0].imshow(org_image)\n",
    "axes[0].axis('off')\n",
    "axes[0].set_title('Orginal Image')\n",
    "\n",
    "axes[1].imshow(reg_image)\n",
    "axes[1].axis('off')\n",
    "axes[1].set_title('Recreated Image on Simulation')\n",
    "plt.tight_layout()\n",
    "plt.show()"
   ]
  },
  {
   "cell_type": "markdown",
   "id": "3e46f9fb-3c31-4512-b6da-28628ef88241",
   "metadata": {},
   "source": [
    "<br>\n",
    "<h2> Actual simulation on Quantum Computer </h2>\n",
    "<hr>"
   ]
  },
  {
   "cell_type": "code",
   "execution_count": 10,
   "id": "d364d16e-179c-412c-9d77-b0e412a756a2",
   "metadata": {},
   "outputs": [
    {
     "name": "stdout",
     "output_type": "stream",
     "text": [
      "Using IBM Machine:  ibm_sherbrooke\n",
      "Qubit count for QRMW image: 12\n",
      ">>> Circuit ops (ISA): OrderedDict({'rz': 13329, 'sx': 8789, 'ecr': 3761, 'x': 554, 'barrier': 16, 'measure': 12})\n"
     ]
    }
   ],
   "source": [
    "# Connect to the service\n",
    "tkn = ''\n",
    "service = QiskitRuntimeService(\n",
    "    channel='ibm_quantum',\n",
    "    instance='ibm-q/open/main',\n",
    "    token=tkn,\n",
    ")\n",
    "backend = service.least_busy(operational=True, simulator=False, min_num_qubits=qrmw_qiskit_circuit.num_qubits)\n",
    "print('Using IBM Machine: ', backend.name)\n",
    "\n",
    "# Test small test file\n",
    "org_image, df = open_image(\"2x2_test.png\")\n",
    "qrmw_qiskit_circuit = generate_QRMW_qiskit_circuit(df)\n",
    "pm = generate_preset_pass_manager(optimization_level=3, backend=backend)\n",
    "transpiled_circuit = pm.run(qrmw_qiskit_circuit)\n",
    "\n",
    "# Check actual gate counts.\n",
    "print(f\">>> Circuit ops (ISA): {transpiled_circuit.count_ops()}\")"
   ]
  },
  {
   "cell_type": "code",
   "execution_count": 11,
   "id": "268c9fb3-4c91-47b1-90ab-acde95361a8c",
   "metadata": {},
   "outputs": [],
   "source": [
    "sampler = Sampler(mode=backend)\n",
    "sampler.options.default_shots=8192\n",
    "sampler.options.dynamical_decoupling.enable = True\n",
    "sampler.options.twirling.enable_gates = True\n",
    "sampler.options.dynamical_decoupling.sequence_type = \"XpXm\""
   ]
  },
  {
   "cell_type": "code",
   "execution_count": 22,
   "id": "391085d2-2fac-47fe-969f-78ee68df48e9",
   "metadata": {},
   "outputs": [
    {
     "name": "stdout",
     "output_type": "stream",
     "text": [
      ">>> Job ID: cx7jprvtpsjg008c3ra0\n",
      ">>> Job Status: QUEUED\n"
     ]
    }
   ],
   "source": [
    "job = sampler.run([(transpiled_circuit)])\n",
    "print(f\">>> Job ID: {job.job_id()}\")\n",
    "print(f\">>> Job Status: {job.status()}\")"
   ]
  },
  {
   "cell_type": "code",
   "execution_count": 34,
   "id": "5eadb74f-7769-4146-8137-799122e84116",
   "metadata": {},
   "outputs": [],
   "source": [
    "# job = service.job(job.job_id())\n",
    "job_result = job.result()\n",
    "pub_result = job_result[0].data.c.get_counts()"
   ]
  },
  {
   "cell_type": "code",
   "execution_count": 38,
   "id": "65c9bb5f-f6ae-43c2-a068-5463f2ab452b",
   "metadata": {},
   "outputs": [
    {
     "data": {
      "image/png": "[encoded data removed]",
      "text/plain": [
       "<Figure size 1000x500 with 2 Axes>"
      ]
     },
     "metadata": {},
     "output_type": "display_data"
    }
   ],
   "source": [
    "reg_image = regenerate_image(pub_result)\n",
    "\n",
    "fig, axes = plt.subplots(1, 2, figsize=(10, 5))\n",
    "axes[0].imshow(org_image)\n",
    "axes[0].axis('off')\n",
    "axes[0].set_title('Orginal Image')\n",
    "\n",
    "axes[1].imshow(reg_image)\n",
    "axes[1].axis('off')\n",
    "axes[1].set_title('Recreated Image on IBM Machine')\n",
    "plt.tight_layout()\n",
    "plt.show()"
   ]
  },
  {
   "cell_type": "code",
   "execution_count": null,
   "id": "afd67c4d-d231-4c9e-875e-1b5ad288bf48",
   "metadata": {},
   "outputs": [],
   "source": []
  }
 ],
 "metadata": {
  "kernelspec": {
   "display_name": "Python 3 (ipykernel)",
   "language": "python",
   "name": "python3"
  },
  "language_info": {
   "codemirror_mode": {
    "name": "ipython",
    "version": 3
   },
   "file_extension": ".py",
   "mimetype": "text/x-python",
   "name": "python",
   "nbconvert_exporter": "python",
   "pygments_lexer": "ipython3",
   "version": "3.12.5"
  }
 },
 "nbformat": 4,
 "nbformat_minor": 5
}
